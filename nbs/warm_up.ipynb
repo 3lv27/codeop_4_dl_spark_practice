{
 "cells": [
  {
   "cell_type": "markdown",
   "id": "d46c8e32-6381-44b2-a522-238359b0606c",
   "metadata": {},
   "source": [
    "# Spark SQL with pySpark"
   ]
  },
  {
   "cell_type": "markdown",
   "id": "e355437c-f3b8-4e13-8c6f-7a4203959afc",
   "metadata": {},
   "source": [
    "Answer the following questions"
   ]
  },
  {
   "cell_type": "code",
   "execution_count": null,
   "id": "9a0e2c1f-1fea-493e-872f-5a4fdf691019",
   "metadata": {},
   "outputs": [],
   "source": [
    "from pyspark.sql import SparkSession\n",
    "from pyspark.sql.functions import *"
   ]
  },
  {
   "cell_type": "code",
   "execution_count": null,
   "id": "7099a616-fe1e-48b8-bfb8-d85be20a045a",
   "metadata": {},
   "outputs": [],
   "source": [
    "spark = SparkSession.builder \\\n",
    "    .master(\"local\") \\\n",
    "    .config(\"spark.sql.autoBroadcastJoinThreshold\", -1) \\\n",
    "    .config(\"spark.executor.memory\", \"500mb\") \\\n",
    "    .appName(\"Exercise1\") \\\n",
    "    .getOrCreate()"
   ]
  },
  {
   "cell_type": "code",
   "execution_count": null,
   "id": "4f0ffc3a-b882-4a64-86e0-f6ff05b293eb",
   "metadata": {},
   "outputs": [],
   "source": [
    "# Read the source tables\n",
    "products_table = spark.read.parquet(\"./data/products_parquet\")\n",
    "sales_table = spark.read.parquet(\"./data/sales_parquet\")\n",
    "sellers_table = spark.read.parquet(\"./data/sellers_parquet\")"
   ]
  },
  {
   "cell_type": "markdown",
   "id": "39ff0eec-e5a4-491b-a893-d0e956370373",
   "metadata": {},
   "source": [
    "1. Print the number of orders"
   ]
  },
  {
   "cell_type": "code",
   "execution_count": null,
   "id": "fd67a045-5b67-40af-b95f-565ab19cfe2d",
   "metadata": {},
   "outputs": [],
   "source": [
    "print(\"Number of Orders: {}\".format(sales_table.count()))"
   ]
  },
  {
   "cell_type": "markdown",
   "id": "8f08305b-9f05-410a-8bbf-7fe74b22087b",
   "metadata": {},
   "source": [
    "Number of Orders: 20000040"
   ]
  },
  {
   "cell_type": "markdown",
   "id": "1ea123f1-22d9-4c1d-b86f-14ad94ae14b9",
   "metadata": {},
   "source": [
    "2. Print the number of sellers"
   ]
  },
  {
   "cell_type": "code",
   "execution_count": null,
   "id": "6e712596-f544-4861-a9eb-4dc4a62be2b2",
   "metadata": {},
   "outputs": [],
   "source": []
  },
  {
   "cell_type": "markdown",
   "id": "f61a804a-b8d5-4814-91bc-110edb227729",
   "metadata": {},
   "source": [
    "Number of sellers: 10"
   ]
  },
  {
   "cell_type": "markdown",
   "id": "aabcc13e-79fe-4034-89d7-e95105f4a154",
   "metadata": {},
   "source": [
    "3. Print the number of products"
   ]
  },
  {
   "cell_type": "code",
   "execution_count": null,
   "id": "5c4df393-1915-41a7-83c1-24688d756a77",
   "metadata": {},
   "outputs": [],
   "source": []
  },
  {
   "cell_type": "markdown",
   "id": "257bd041-66c7-47b0-a244-cd254995f5f6",
   "metadata": {},
   "source": [
    "Number of products: 75000000\n"
   ]
  },
  {
   "cell_type": "markdown",
   "id": "a2ce666d-218f-4cca-bc91-10bfe4e6239f",
   "metadata": {},
   "source": [
    "4. Number of products sold at least once"
   ]
  },
  {
   "cell_type": "code",
   "execution_count": null,
   "id": "c0532c2c-02e5-427b-b1f1-1afcc3ceeb3b",
   "metadata": {},
   "outputs": [],
   "source": []
  },
  {
   "cell_type": "markdown",
   "id": "4d58cf17-bc75-4c7e-bb35-23cbc3f2a795",
   "metadata": {},
   "source": [
    "result: 993429"
   ]
  },
  {
   "cell_type": "markdown",
   "id": "2995fcdd-9777-43db-bd49-f0a9b419b6d6",
   "metadata": {},
   "source": [
    "5. Product present in more orders"
   ]
  },
  {
   "cell_type": "code",
   "execution_count": null,
   "id": "cfac99a6-2dce-44c6-b72b-aa9452edd0a8",
   "metadata": {},
   "outputs": [],
   "source": [
    "sales_table \\\n",
    "    .groupBy(col(\"product_id\")) \\\n",
    "    .agg(count(\"*\").alias(\"cnt\")) \\\n",
    "    .orderBy(col(\"cnt\").desc()) \\\n",
    "    .limit(1) \\\n",
    "    .show()"
   ]
  },
  {
   "cell_type": "markdown",
   "id": "5591c42a-35fc-45ad-88bb-e61c5fe265e3",
   "metadata": {},
   "source": [
    "| product_id | count    |\n",
    "|------------|----------|\n",
    "| 0          | 19000000 |"
   ]
  },
  {
   "cell_type": "markdown",
   "id": "0c2cae47-41d2-467a-8aeb-256c97308197",
   "metadata": {},
   "source": [
    "6. How many distinct products have been sold in each date"
   ]
  },
  {
   "cell_type": "code",
   "execution_count": null,
   "id": "ce9d74cb-ce9a-49d9-81f4-cd285df2eefa",
   "metadata": {},
   "outputs": [],
   "source": []
  },
  {
   "cell_type": "markdown",
   "id": "2ae737f1-1527-4596-8e94-c3a3a77e989e",
   "metadata": {},
   "source": [
    "|       date | distinct_products_sold |\n",
    "|-----------:|------------------------|\n",
    "| 2020-07-06 | 100765                 |\n",
    "| 2020-07-09 | 100501                 |\n",
    "| 2020-07-01 | 100337                 |\n",
    "| 2020-07-03 | 100017                 |\n",
    "| 2020-07-02 | 99807                  |\n",
    "| 2020-07-05 | 99796                  |\n",
    "| 2020-07-04 | 99791                  |\n",
    "| 2020-07-07 | 99756                  |\n",
    "| 2020-07-08 | 99662                  |\n",
    "| 2020-07-10 | 98973                  |"
   ]
  },
  {
   "cell_type": "markdown",
   "id": "275e312e-8273-4bed-96c2-2dbc064c5b95",
   "metadata": {},
   "source": [
    "7. What is the average revenue of the orders?"
   ]
  },
  {
   "cell_type": "code",
   "execution_count": null,
   "id": "dd4d0a95-f6e6-4fff-8745-4fd7675bb0f4",
   "metadata": {},
   "outputs": [],
   "source": []
  },
  {
   "cell_type": "markdown",
   "id": "9cbc57d8-55d9-4b17-a9c5-c5f093f99ea4",
   "metadata": {},
   "source": [
    "Result: 1246.1338560822878"
   ]
  },
  {
   "cell_type": "code",
   "execution_count": null,
   "id": "56493302-11fb-4b4c-94b1-84f42925a1c8",
   "metadata": {},
   "outputs": [],
   "source": []
  }
 ],
 "metadata": {
  "kernelspec": {
   "display_name": "Python 3 (ipykernel)",
   "language": "python",
   "name": "python3"
  },
  "language_info": {
   "codemirror_mode": {
    "name": "ipython",
    "version": 3
   },
   "file_extension": ".py",
   "mimetype": "text/x-python",
   "name": "python",
   "nbconvert_exporter": "python",
   "pygments_lexer": "ipython3",
   "version": "3.9.10"
  }
 },
 "nbformat": 4,
 "nbformat_minor": 5
}
